{
 "cells": [
  {
   "cell_type": "code",
   "execution_count": 2,
   "metadata": {},
   "outputs": [],
   "source": [
    "import hashlib\n",
    "import pandas as pd"
   ]
  },
  {
   "cell_type": "code",
   "execution_count": 3,
   "metadata": {},
   "outputs": [],
   "source": [
    "def hash_md5(text: str) -> str:\n",
    "    return str(hashlib.md5(text.encode()).hexdigest())"
   ]
  },
  {
   "cell_type": "code",
   "execution_count": 23,
   "metadata": {},
   "outputs": [],
   "source": [
    "# Read reviews\n",
    "reviews = pd.read_parquet(\"../scraper/booking/output/vn_hotels_reviews.parquet\")\n",
    "\n",
    "# Explode reviews column\n",
    "reviews = reviews.explode(\"reviews\")\n",
    "reviews = pd.concat(\n",
    "    [reviews.drop([\"reviews\"], axis=1), reviews[\"reviews\"].apply(pd.Series)], axis=1\n",
    ")"
   ]
  },
  {
   "cell_type": "code",
   "execution_count": 24,
   "metadata": {},
   "outputs": [],
   "source": [
    "def categorize_stay_duration(stay_duration: str) -> str:\n",
    "    try:\n",
    "        duration = int(stay_duration.split(\" \")[0])\n",
    "        if duration < 2:\n",
    "            return \"Short\"\n",
    "        elif duration < 5:\n",
    "            return \"Medium\"\n",
    "        elif duration >= 5:\n",
    "            return \"Long\"\n",
    "    except:\n",
    "        return \"Unknown\""
   ]
  },
  {
   "cell_type": "code",
   "execution_count": 11,
   "metadata": {},
   "outputs": [
    {
     "name": "stdout",
     "output_type": "stream",
     "text": [
      "Working with reviews:\n"
     ]
    },
    {
     "data": {
      "text/plain": [
       "0       1 night\n",
       "0      3 nights\n",
       "0       1 night\n",
       "0      4 nights\n",
       "0       1 night\n",
       "         ...   \n",
       "633    3 nights\n",
       "633    2 nights\n",
       "633    2 nights\n",
       "633    2 nights\n",
       "633     1 night\n",
       "Name: stay_duration, Length: 6108, dtype: object"
      ]
     },
     "metadata": {},
     "output_type": "display_data"
    },
    {
     "ename": "AttributeError",
     "evalue": "'float' object has no attribute 'split'",
     "output_type": "error",
     "traceback": [
      "\u001b[0;31m---------------------------------------------------------------------------\u001b[0m",
      "\u001b[0;31mAttributeError\u001b[0m                            Traceback (most recent call last)",
      "Cell \u001b[0;32mIn[11], line 42\u001b[0m\n\u001b[1;32m     39\u001b[0m     \u001b[38;5;28;01mreturn\u001b[39;00m \u001b[38;5;124m\"\u001b[39m\u001b[38;5;124mUnknown\u001b[39m\u001b[38;5;124m\"\u001b[39m\n\u001b[1;32m     41\u001b[0m display(reviews[\u001b[38;5;124m\"\u001b[39m\u001b[38;5;124mstay_duration\u001b[39m\u001b[38;5;124m\"\u001b[39m])\n\u001b[0;32m---> 42\u001b[0m reviews[\u001b[38;5;124m\"\u001b[39m\u001b[38;5;124mstay_duration\u001b[39m\u001b[38;5;124m\"\u001b[39m] \u001b[38;5;241m=\u001b[39m \u001b[43mreviews\u001b[49m\u001b[43m[\u001b[49m\u001b[38;5;124;43m\"\u001b[39;49m\u001b[38;5;124;43mstay_duration\u001b[39;49m\u001b[38;5;124;43m\"\u001b[39;49m\u001b[43m]\u001b[49m\u001b[38;5;241;43m.\u001b[39;49m\u001b[43mapply\u001b[49m\u001b[43m(\u001b[49m\u001b[43mcategorize_stay_duration\u001b[49m\u001b[43m)\u001b[49m\n\u001b[1;32m     44\u001b[0m \u001b[38;5;66;03m# Add hotel_id, user_id\u001b[39;00m\n\u001b[1;32m     45\u001b[0m reviews[\u001b[38;5;124m\"\u001b[39m\u001b[38;5;124mhotel_id\u001b[39m\u001b[38;5;124m\"\u001b[39m] \u001b[38;5;241m=\u001b[39m reviews\u001b[38;5;241m.\u001b[39mapply(\u001b[38;5;28;01mlambda\u001b[39;00m x: hash_md5(x[\u001b[38;5;124m\"\u001b[39m\u001b[38;5;124mhotel_slug\u001b[39m\u001b[38;5;124m\"\u001b[39m]), axis\u001b[38;5;241m=\u001b[39m\u001b[38;5;241m1\u001b[39m)\n",
      "File \u001b[0;32m~/Workspace/PersonalRepo/booking-bot/.venv/lib/python3.11/site-packages/pandas/core/series.py:4924\u001b[0m, in \u001b[0;36mSeries.apply\u001b[0;34m(self, func, convert_dtype, args, by_row, **kwargs)\u001b[0m\n\u001b[1;32m   4789\u001b[0m \u001b[38;5;28;01mdef\u001b[39;00m \u001b[38;5;21mapply\u001b[39m(\n\u001b[1;32m   4790\u001b[0m     \u001b[38;5;28mself\u001b[39m,\n\u001b[1;32m   4791\u001b[0m     func: AggFuncType,\n\u001b[0;32m   (...)\u001b[0m\n\u001b[1;32m   4796\u001b[0m     \u001b[38;5;241m*\u001b[39m\u001b[38;5;241m*\u001b[39mkwargs,\n\u001b[1;32m   4797\u001b[0m ) \u001b[38;5;241m-\u001b[39m\u001b[38;5;241m>\u001b[39m DataFrame \u001b[38;5;241m|\u001b[39m Series:\n\u001b[1;32m   4798\u001b[0m \u001b[38;5;250m    \u001b[39m\u001b[38;5;124;03m\"\"\"\u001b[39;00m\n\u001b[1;32m   4799\u001b[0m \u001b[38;5;124;03m    Invoke function on values of Series.\u001b[39;00m\n\u001b[1;32m   4800\u001b[0m \n\u001b[0;32m   (...)\u001b[0m\n\u001b[1;32m   4915\u001b[0m \u001b[38;5;124;03m    dtype: float64\u001b[39;00m\n\u001b[1;32m   4916\u001b[0m \u001b[38;5;124;03m    \"\"\"\u001b[39;00m\n\u001b[1;32m   4917\u001b[0m     \u001b[38;5;28;01mreturn\u001b[39;00m \u001b[43mSeriesApply\u001b[49m\u001b[43m(\u001b[49m\n\u001b[1;32m   4918\u001b[0m \u001b[43m        \u001b[49m\u001b[38;5;28;43mself\u001b[39;49m\u001b[43m,\u001b[49m\n\u001b[1;32m   4919\u001b[0m \u001b[43m        \u001b[49m\u001b[43mfunc\u001b[49m\u001b[43m,\u001b[49m\n\u001b[1;32m   4920\u001b[0m \u001b[43m        \u001b[49m\u001b[43mconvert_dtype\u001b[49m\u001b[38;5;241;43m=\u001b[39;49m\u001b[43mconvert_dtype\u001b[49m\u001b[43m,\u001b[49m\n\u001b[1;32m   4921\u001b[0m \u001b[43m        \u001b[49m\u001b[43mby_row\u001b[49m\u001b[38;5;241;43m=\u001b[39;49m\u001b[43mby_row\u001b[49m\u001b[43m,\u001b[49m\n\u001b[1;32m   4922\u001b[0m \u001b[43m        \u001b[49m\u001b[43margs\u001b[49m\u001b[38;5;241;43m=\u001b[39;49m\u001b[43margs\u001b[49m\u001b[43m,\u001b[49m\n\u001b[1;32m   4923\u001b[0m \u001b[43m        \u001b[49m\u001b[43mkwargs\u001b[49m\u001b[38;5;241;43m=\u001b[39;49m\u001b[43mkwargs\u001b[49m\u001b[43m,\u001b[49m\n\u001b[0;32m-> 4924\u001b[0m \u001b[43m    \u001b[49m\u001b[43m)\u001b[49m\u001b[38;5;241;43m.\u001b[39;49m\u001b[43mapply\u001b[49m\u001b[43m(\u001b[49m\u001b[43m)\u001b[49m\n",
      "File \u001b[0;32m~/Workspace/PersonalRepo/booking-bot/.venv/lib/python3.11/site-packages/pandas/core/apply.py:1427\u001b[0m, in \u001b[0;36mSeriesApply.apply\u001b[0;34m(self)\u001b[0m\n\u001b[1;32m   1424\u001b[0m     \u001b[38;5;28;01mreturn\u001b[39;00m \u001b[38;5;28mself\u001b[39m\u001b[38;5;241m.\u001b[39mapply_compat()\n\u001b[1;32m   1426\u001b[0m \u001b[38;5;66;03m# self.func is Callable\u001b[39;00m\n\u001b[0;32m-> 1427\u001b[0m \u001b[38;5;28;01mreturn\u001b[39;00m \u001b[38;5;28;43mself\u001b[39;49m\u001b[38;5;241;43m.\u001b[39;49m\u001b[43mapply_standard\u001b[49m\u001b[43m(\u001b[49m\u001b[43m)\u001b[49m\n",
      "File \u001b[0;32m~/Workspace/PersonalRepo/booking-bot/.venv/lib/python3.11/site-packages/pandas/core/apply.py:1507\u001b[0m, in \u001b[0;36mSeriesApply.apply_standard\u001b[0;34m(self)\u001b[0m\n\u001b[1;32m   1501\u001b[0m \u001b[38;5;66;03m# row-wise access\u001b[39;00m\n\u001b[1;32m   1502\u001b[0m \u001b[38;5;66;03m# apply doesn't have a `na_action` keyword and for backward compat reasons\u001b[39;00m\n\u001b[1;32m   1503\u001b[0m \u001b[38;5;66;03m# we need to give `na_action=\"ignore\"` for categorical data.\u001b[39;00m\n\u001b[1;32m   1504\u001b[0m \u001b[38;5;66;03m# TODO: remove the `na_action=\"ignore\"` when that default has been changed in\u001b[39;00m\n\u001b[1;32m   1505\u001b[0m \u001b[38;5;66;03m#  Categorical (GH51645).\u001b[39;00m\n\u001b[1;32m   1506\u001b[0m action \u001b[38;5;241m=\u001b[39m \u001b[38;5;124m\"\u001b[39m\u001b[38;5;124mignore\u001b[39m\u001b[38;5;124m\"\u001b[39m \u001b[38;5;28;01mif\u001b[39;00m \u001b[38;5;28misinstance\u001b[39m(obj\u001b[38;5;241m.\u001b[39mdtype, CategoricalDtype) \u001b[38;5;28;01melse\u001b[39;00m \u001b[38;5;28;01mNone\u001b[39;00m\n\u001b[0;32m-> 1507\u001b[0m mapped \u001b[38;5;241m=\u001b[39m \u001b[43mobj\u001b[49m\u001b[38;5;241;43m.\u001b[39;49m\u001b[43m_map_values\u001b[49m\u001b[43m(\u001b[49m\n\u001b[1;32m   1508\u001b[0m \u001b[43m    \u001b[49m\u001b[43mmapper\u001b[49m\u001b[38;5;241;43m=\u001b[39;49m\u001b[43mcurried\u001b[49m\u001b[43m,\u001b[49m\u001b[43m \u001b[49m\u001b[43mna_action\u001b[49m\u001b[38;5;241;43m=\u001b[39;49m\u001b[43maction\u001b[49m\u001b[43m,\u001b[49m\u001b[43m \u001b[49m\u001b[43mconvert\u001b[49m\u001b[38;5;241;43m=\u001b[39;49m\u001b[38;5;28;43mself\u001b[39;49m\u001b[38;5;241;43m.\u001b[39;49m\u001b[43mconvert_dtype\u001b[49m\n\u001b[1;32m   1509\u001b[0m \u001b[43m\u001b[49m\u001b[43m)\u001b[49m\n\u001b[1;32m   1511\u001b[0m \u001b[38;5;28;01mif\u001b[39;00m \u001b[38;5;28mlen\u001b[39m(mapped) \u001b[38;5;129;01mand\u001b[39;00m \u001b[38;5;28misinstance\u001b[39m(mapped[\u001b[38;5;241m0\u001b[39m], ABCSeries):\n\u001b[1;32m   1512\u001b[0m     \u001b[38;5;66;03m# GH#43986 Need to do list(mapped) in order to get treated as nested\u001b[39;00m\n\u001b[1;32m   1513\u001b[0m     \u001b[38;5;66;03m#  See also GH#25959 regarding EA support\u001b[39;00m\n\u001b[1;32m   1514\u001b[0m     \u001b[38;5;28;01mreturn\u001b[39;00m obj\u001b[38;5;241m.\u001b[39m_constructor_expanddim(\u001b[38;5;28mlist\u001b[39m(mapped), index\u001b[38;5;241m=\u001b[39mobj\u001b[38;5;241m.\u001b[39mindex)\n",
      "File \u001b[0;32m~/Workspace/PersonalRepo/booking-bot/.venv/lib/python3.11/site-packages/pandas/core/base.py:921\u001b[0m, in \u001b[0;36mIndexOpsMixin._map_values\u001b[0;34m(self, mapper, na_action, convert)\u001b[0m\n\u001b[1;32m    918\u001b[0m \u001b[38;5;28;01mif\u001b[39;00m \u001b[38;5;28misinstance\u001b[39m(arr, ExtensionArray):\n\u001b[1;32m    919\u001b[0m     \u001b[38;5;28;01mreturn\u001b[39;00m arr\u001b[38;5;241m.\u001b[39mmap(mapper, na_action\u001b[38;5;241m=\u001b[39mna_action)\n\u001b[0;32m--> 921\u001b[0m \u001b[38;5;28;01mreturn\u001b[39;00m \u001b[43malgorithms\u001b[49m\u001b[38;5;241;43m.\u001b[39;49m\u001b[43mmap_array\u001b[49m\u001b[43m(\u001b[49m\u001b[43marr\u001b[49m\u001b[43m,\u001b[49m\u001b[43m \u001b[49m\u001b[43mmapper\u001b[49m\u001b[43m,\u001b[49m\u001b[43m \u001b[49m\u001b[43mna_action\u001b[49m\u001b[38;5;241;43m=\u001b[39;49m\u001b[43mna_action\u001b[49m\u001b[43m,\u001b[49m\u001b[43m \u001b[49m\u001b[43mconvert\u001b[49m\u001b[38;5;241;43m=\u001b[39;49m\u001b[43mconvert\u001b[49m\u001b[43m)\u001b[49m\n",
      "File \u001b[0;32m~/Workspace/PersonalRepo/booking-bot/.venv/lib/python3.11/site-packages/pandas/core/algorithms.py:1743\u001b[0m, in \u001b[0;36mmap_array\u001b[0;34m(arr, mapper, na_action, convert)\u001b[0m\n\u001b[1;32m   1741\u001b[0m values \u001b[38;5;241m=\u001b[39m arr\u001b[38;5;241m.\u001b[39mastype(\u001b[38;5;28mobject\u001b[39m, copy\u001b[38;5;241m=\u001b[39m\u001b[38;5;28;01mFalse\u001b[39;00m)\n\u001b[1;32m   1742\u001b[0m \u001b[38;5;28;01mif\u001b[39;00m na_action \u001b[38;5;129;01mis\u001b[39;00m \u001b[38;5;28;01mNone\u001b[39;00m:\n\u001b[0;32m-> 1743\u001b[0m     \u001b[38;5;28;01mreturn\u001b[39;00m \u001b[43mlib\u001b[49m\u001b[38;5;241;43m.\u001b[39;49m\u001b[43mmap_infer\u001b[49m\u001b[43m(\u001b[49m\u001b[43mvalues\u001b[49m\u001b[43m,\u001b[49m\u001b[43m \u001b[49m\u001b[43mmapper\u001b[49m\u001b[43m,\u001b[49m\u001b[43m \u001b[49m\u001b[43mconvert\u001b[49m\u001b[38;5;241;43m=\u001b[39;49m\u001b[43mconvert\u001b[49m\u001b[43m)\u001b[49m\n\u001b[1;32m   1744\u001b[0m \u001b[38;5;28;01melse\u001b[39;00m:\n\u001b[1;32m   1745\u001b[0m     \u001b[38;5;28;01mreturn\u001b[39;00m lib\u001b[38;5;241m.\u001b[39mmap_infer_mask(\n\u001b[1;32m   1746\u001b[0m         values, mapper, mask\u001b[38;5;241m=\u001b[39misna(values)\u001b[38;5;241m.\u001b[39mview(np\u001b[38;5;241m.\u001b[39muint8), convert\u001b[38;5;241m=\u001b[39mconvert\n\u001b[1;32m   1747\u001b[0m     )\n",
      "File \u001b[0;32mlib.pyx:2972\u001b[0m, in \u001b[0;36mpandas._libs.lib.map_infer\u001b[0;34m()\u001b[0m\n",
      "Cell \u001b[0;32mIn[11], line 31\u001b[0m, in \u001b[0;36mcategorize_stay_duration\u001b[0;34m(stay_duration)\u001b[0m\n\u001b[1;32m     30\u001b[0m \u001b[38;5;28;01mdef\u001b[39;00m \u001b[38;5;21mcategorize_stay_duration\u001b[39m(stay_duration: \u001b[38;5;28mstr\u001b[39m) \u001b[38;5;241m-\u001b[39m\u001b[38;5;241m>\u001b[39m \u001b[38;5;28mstr\u001b[39m:\n\u001b[0;32m---> 31\u001b[0m     duration \u001b[38;5;241m=\u001b[39m \u001b[38;5;28mint\u001b[39m(\u001b[38;5;28mstr\u001b[39m(\u001b[43mstay_duration\u001b[49m\u001b[38;5;241;43m.\u001b[39;49m\u001b[43msplit\u001b[49m(\u001b[38;5;124m\"\u001b[39m\u001b[38;5;124m \u001b[39m\u001b[38;5;124m\"\u001b[39m)[\u001b[38;5;241m0\u001b[39m]))\n\u001b[1;32m     32\u001b[0m     \u001b[38;5;28;01mif\u001b[39;00m duration \u001b[38;5;241m<\u001b[39m \u001b[38;5;241m2\u001b[39m:\n\u001b[1;32m     33\u001b[0m         \u001b[38;5;28;01mreturn\u001b[39;00m \u001b[38;5;124m\"\u001b[39m\u001b[38;5;124mShort\u001b[39m\u001b[38;5;124m\"\u001b[39m\n",
      "\u001b[0;31mAttributeError\u001b[0m: 'float' object has no attribute 'split'"
     ]
    }
   ],
   "source": [
    "print(\"Working with reviews:\")\n",
    "\n",
    "# Read reviews\n",
    "reviews = pd.read_parquet(\"../scraper/booking/output/vn_hotels_reviews.parquet\")\n",
    "\n",
    "# Explode reviews column\n",
    "reviews = reviews.explode(\"reviews\")\n",
    "reviews = pd.concat(\n",
    "    [reviews.drop([\"reviews\"], axis=1), reviews[\"reviews\"].apply(pd.Series)], axis=1\n",
    ")\n",
    "reviews = reviews.rename(\n",
    "    columns={\n",
    "        \"hotel_name\": \"hotel_slug\",\n",
    "        \"full_review\": \"review_text_full_annot\",\n",
    "        \"rating\": \"review_rating\",\n",
    "    }\n",
    ")\n",
    "reviews[\"review_id\"] = reviews.apply(\n",
    "    lambda x: hash_md5(str(x[\"hotel_slug\"]) + str(x[\"username\"])), axis=1\n",
    ")\n",
    "reviews[\"review_text_full\"] = (\n",
    "    reviews[\"review_title\"].fillna(\"\")\n",
    "    + \". \"\n",
    "    + reviews[\"review_text_liked\"].fillna(\"\")\n",
    "    + \". \"\n",
    "    + reviews[\"review_text_disliked\"].fillna(\"\")\n",
    ")\n",
    "\n",
    "# Categorize stay_duration (Short, Medium, Long)\n",
    "reviews[\"stay_duration\"] = reviews[\"stay_duration\"].astype(str)\n",
    "reviews[\"stay_duration\"] = reviews[\"stay_duration\"].apply(categorize_stay_duration)\n",
    "\n",
    "# Add hotel_id, user_id\n",
    "reviews[\"hotel_id\"] = reviews.apply(lambda x: hash_md5(x[\"hotel_slug\"]), axis=1)\n",
    "reviews[\"user_id\"] = reviews.apply(lambda x: hash_md5(str(x[\"username\"])), axis=1)\n",
    "\n",
    "# reorder columns (move hotel_id, user_id to the front, remove hotel_slug, username)\n",
    "reviews = reviews[\n",
    "    [\n",
    "        \"review_id\",\n",
    "        \"hotel_id\",\n",
    "        \"user_id\",\n",
    "        \"review_post_date\",\n",
    "        \"review_rating\",\n",
    "        \"review_title\",\n",
    "        \"review_text_full\",\n",
    "        \"review_text_full_annot\",\n",
    "        \"review_text_disliked\",\n",
    "        \"review_text_liked\",\n",
    "        \"stay_duration\",\n",
    "        \"stay_type\",\n",
    "        \"user_country\",\n",
    "        \"room_view\",\n",
    "    ]\n",
    "]\n",
    "reviews[\"stay_duration\"] = reviews[\"stay_duration\"].str.extract(r\"(\\d+)\")\n",
    "reviews[\"stay_duration\"] = (\n",
    "    pd.to_numeric(reviews[\"stay_duration\"], errors=\"coerce\").fillna(0).astype(int)\n",
    ")\n",
    "reviews[\"review_post_date\"] = pd.to_datetime(\n",
    "    reviews[\"review_post_date\"], format=\"%m-%d-%Y %H:%M:%S\"\n",
    ")\n",
    "reviews[\"review_rating\"] = pd.to_numeric(\n",
    "    reviews[\"review_rating\"], errors=\"coerce\"\n",
    ").astype(float)\n",
    "reviews.reset_index(drop=True, inplace=True)\n",
    "display(reviews.head())"
   ]
  },
  {
   "cell_type": "code",
   "execution_count": 36,
   "metadata": {},
   "outputs": [
    {
     "name": "stdout",
     "output_type": "stream",
     "text": [
      "Working with hotels:\n"
     ]
    },
    {
     "data": {
      "text/plain": [
       "None"
      ]
     },
     "metadata": {},
     "output_type": "display_data"
    },
    {
     "data": {
      "text/plain": [
       "634"
      ]
     },
     "metadata": {},
     "output_type": "display_data"
    }
   ],
   "source": [
    "print(\"Working with hotels:\")\n",
    "\n",
    "# Read hotels\n",
    "hotels = pd.read_csv(\"../scraper/booking/input/vn_hotels.csv\")\n",
    "hotels = hotels[hotels[\"location\"] == \"Đà Lạt\"]\n",
    "\n",
    "hotels[\"hotel_id\"] = hotels.apply(lambda x: hash_md5(x[\"hotel_slug\"]), axis=1)\n",
    "hotels = hotels[\n",
    "    [\n",
    "        \"hotel_id\",\n",
    "        \"hotel_slug\",\n",
    "        \"name_hotel\",\n",
    "        \"descriptions\",\n",
    "        \"address\",\n",
    "        \"location\",\n",
    "        \"country\",\n",
    "        \"url_hotel\",\n",
    "    ]\n",
    "]\n",
    "hotels.reset_index(drop=True, inplace=True)\n",
    "display(hotels[\"descriptions\"].to_csv(\"descriptions.csv\", index=False))\n",
    "display(len(hotels))"
   ]
  },
  {
   "cell_type": "code",
   "execution_count": null,
   "metadata": {
    "vscode": {
     "languageId": "coffeescript"
    }
   },
   "outputs": [],
   "source": [
    "def extract_entities_llm(description: str) -> Optional[Dict[str, str]]:\n",
    "    \"\"\"\n",
    "    Extract structured address information using OpenAI's API.\n",
    "    \n",
    "    Args:\n",
    "        description (str): The address description in English or Vietnamese.\n",
    "        \n",
    "    Returns:\n",
    "        Optional[Dict[str, str]]: A dictionary with structured address components, or None if extraction fails.\n",
    "    \"\"\"\n",
    "    if not description.strip():\n",
    "        logger.warning(\"Input description is empty or invalid.\")\n",
    "        return None\n",
    "\n",
    "    prompt = f\"\"\"\n",
    "    Analyze the following address description and extract the components into structured JSON. \n",
    "    Address descriptions may be in English or Vietnamese.\n",
    "\n",
    "    Address: \"{description}\"\n",
    "\n",
    "    Return a valid JSON object with the following keys:\n",
    "    - \"street\": The street name or number, if available.\n",
    "    - \"ward\": The ward name or number, if available.\n",
    "    - \"city\": The city name.\n",
    "    - \"country\": The country name.\n",
    "\n",
    "    Example format:\n",
    "    {{\n",
    "      \"street\": \"98 Đường Thông Thiên Học\",\n",
    "      \"ward\": \"Phường 8\",\n",
    "      \"city\": \"Đà Lạt\",\n",
    "      \"country\": \"Việt Nam\"\n",
    "    }}\n",
    "    If any component is missing in the address, leave it as null.\n",
    "    \"\"\"\n",
    "    \n",
    "    try:\n",
    "        response = openai.ChatCompletion.create(\n",
    "            model=\"gpt-3.5-turbo\",\n",
    "            messages=[\n",
    "                {\"role\": \"system\", \"content\": \"You are a helpful assistant.\"},\n",
    "                {\"role\": \"user\", \"content\": prompt}\n",
    "            ],\n",
    "            temperature=0\n",
    "        )\n",
    "        \n",
    "        content = response.choices[0].message[\"content\"]\n",
    "        logger.info(f\"Raw response: {content}\")\n",
    "\n",
    "        # Parse the response content as JSON\n",
    "        extracted_data = json.loads(content)\n",
    "        required_keys = {\"street\", \"ward\", \"city\", \"country\"}\n",
    "        if required_keys.issubset(extracted_data.keys()):\n",
    "            return extracted_data\n",
    "        else:\n",
    "            logger.error(\"Response JSON does not contain all expected keys.\")\n",
    "            return None\n",
    "\n",
    "    except json.JSONDecodeError as e:\n",
    "        logger.error(f\"Failed to parse JSON from response: {e}\")\n",
    "        return None\n",
    "    except openai.error.OpenAIError as e:\n",
    "        logger.error(f\"OpenAI API error: {e}\")\n",
    "        return None\n",
    "    except Exception as e:\n",
    "        logger.exception(f\"An unexpected error occurred: {e}\")\n",
    "        return None"
   ]
  },
  {
   "cell_type": "code",
   "execution_count": null,
   "metadata": {},
   "outputs": [],
   "source": [
    "from openai import ChatCompletion\n",
    "from neo4j import GraphDatabase\n",
    "\n",
    "# Define a function to extract main amenities\n",
    "def extract_main_amenities(chunks):\n",
    "    all_features = []\n",
    "    for chunk in chunks:\n",
    "        response = ChatCompletion.create(\n",
    "            model=\"gpt-4\",\n",
    "            messages=[\n",
    "                {\n",
    "                    \"role\": \"system\", \n",
    "                    \"content\": \"\"\"Extract the main hotel amenities in the following categories:\n",
    "                    - Hotel facilities (e.g., parking, pool, Wi-Fi).\n",
    "                    - Room amenities (e.g., air conditioning, TV, balcony).\n",
    "                    - Food & Dining (e.g., breakfast, restaurants).\n",
    "                    - Nearby attractions (e.g., landmarks, parks).\n",
    "                    - Transportation (e.g., airport proximity, shuttle services).\n",
    "                    Focus on the main amenities (not too many) and return the result as a list of amenities.\"\"\"\n",
    "                },\n",
    "                {\n",
    "                    \"role\": \"user\", \n",
    "                    \"content\": chunk\n",
    "                }\n",
    "            ],\n",
    "            max_tokens=200,\n",
    "            temperature=0.7\n",
    "        )\n",
    "        try:\n",
    "            features = response.choices[0].message.content.split('\\n')\n",
    "            all_features.extend(features)\n",
    "        except KeyError:\n",
    "            print(\"Error processing chunk:\", chunk)\n",
    "            continue\n",
    "    return list(set(all_features))  # Remove duplicates\n",
    "\n",
    "# Define a function to insert amenities into Neo4j\n",
    "def insert_amenities_to_neo4j(driver, hotel_name, amenities):\n",
    "    with driver.session() as session:\n",
    "        query = \"\"\"\n",
    "        MATCH (h:Hotel {name: $hotel_name})\n",
    "        UNWIND $amenities as amenity\n",
    "        MERGE (a:Amenity {name: amenity})\n",
    "        MERGE (h)-[r:HAS_AMENITY]->(a)\n",
    "        ON CREATE SET r.weight = 1\n",
    "        ON MATCH SET r.weight = r.weight + 0.1\n",
    "        \"\"\"\n",
    "        session.run(query, hotel_name=hotel_name, amenities=amenities)\n",
    "\n",
    "# Main function to process and upload data\n",
    "def process_hotel_data(chunks, hotel_name, neo4j_uri, neo4j_user, neo4j_password):\n",
    "    # Extract amenities\n",
    "    amenities = extract_main_amenities(chunks)\n",
    "    \n",
    "    # Connect to Neo4j\n",
    "    driver = GraphDatabase.driver(neo4j_uri, auth=(neo4j_user, neo4j_password))\n",
    "    try:\n",
    "        insert_amenities_to_neo4j(driver, hotel_name, amenities)\n",
    "        print(f\"Amenities for {hotel_name} have been added to the database.\")\n",
    "    finally:\n",
    "        driver.close()\n",
    "\n",
    "# Example usage\n",
    "chunks = [\n",
    "    \"\"\"Tọa lạc tại thành phố Đà Lạt, cách Hồ Xuân Hương 500 m, Dalat Wind Deluxe Hotel là khách sạn 2 sao có lễ tân 24 giờ, sảnh khách chung, Wi-Fi và chỗ đỗ xe riêng miễn phí. Tại khách sạn, tất cả các phòng đều có bàn làm việc, TV màn hình phẳng, ấm đun nước và phòng tắm riêng với chậu rửa vệ sinh (bidet). Một số phòng còn có ban công. Khách sạn phục vụ bữa sáng gọi món hàng ngày. Du khách có thể dùng bữa tại nhà hàng trong khuôn viên, nơi chuyên phục vụ các món nướng/BBQ. Du khách cũng có thể thư giãn trên sân hiên tắm nắng. Các điểm tham quan nổi tiếng gần Dalat Wind Deluxe Hotel bao gồm Vườn hoa Đà Lạt, Quảng trường Lâm Viên và Công viên Yersin Đà Lạt. Sân bay gần nhất là sân bay Liên Khương, cách chỗ nghỉ 23 km.\"\"\"\n",
    "]\n",
    "hotel_name = \"Dalat Wind Deluxe Hotel\"\n",
    "neo4j_uri = \"bolt://localhost:7687\"\n",
    "neo4j_user = \"neo4j\"\n",
    "neo4j_password = \"your_password\"\n",
    "\n",
    "process_hotel_data(chunks, hotel_name, neo4j_uri, neo4j_user, neo4j_password)"
   ]
  },
  {
   "cell_type": "code",
   "execution_count": null,
   "metadata": {},
   "outputs": [],
   "source": [
    "print(\"User:\")\n",
    "users = reviews[[\"username\", \"user_country\"]].drop_duplicates()\n",
    "users[\"user_id\"] = users.apply(lambda x: hash_md5(str(x[\"username\"])), axis=1)\n",
    "users = users[[\"user_id\", \"username\", \"user_country\"]]\n",
    "users.reset_index(drop=True, inplace=True)\n",
    "display(users.head())"
   ]
  },
  {
   "cell_type": "code",
   "execution_count": 14,
   "metadata": {},
   "outputs": [
    {
     "name": "stdout",
     "output_type": "stream",
     "text": [
      "fact_review\n",
      "+-- review_id: object\n",
      "+-- hotel_id: object\n",
      "+-- user_id: object\n",
      "+-- review_post_date: datetime64[ns]\n",
      "+-- review_rating: float64\n",
      "+-- review_title: object\n",
      "+-- review_text_full: object\n",
      "+-- review_text_full_annot: object\n",
      "+-- review_text_disliked: object\n",
      "+-- review_text_liked: object\n",
      "+-- stay_duration: int64\n",
      "+-- stay_type: object\n",
      "+-- user_country: object\n",
      "+-- room_view: object\n",
      "dim_hotel\n",
      "+-- hotel_id: object\n",
      "+-- hotel_slug: object\n",
      "+-- name_hotel: object\n",
      "+-- descriptions: object\n",
      "+-- address: object\n",
      "+-- location: object\n",
      "+-- country: object\n",
      "+-- url_hotel: object\n",
      "dim_user\n",
      "+-- user_id: object\n",
      "+-- username: object\n",
      "+-- user_country: object\n"
     ]
    }
   ],
   "source": [
    "fact_review = pd.read_parquet(\"../scraper/booking/output/warehouse/fact_review.parquet\")\n",
    "dim_hotel = pd.read_parquet(\"../scraper/booking/output/warehouse/dim_hotel.parquet\")\n",
    "dim_user = pd.read_parquet(\"../scraper/booking/output/warehouse/dim_user.parquet\")\n",
    "\n",
    "import inspect\n",
    "\n",
    "def printSchema(df):\n",
    "    frame = inspect.currentframe().f_back\n",
    "    variable_name = [k for k, v in frame.f_locals.items() if v is df][0]\n",
    "    cols = df.columns\n",
    "    print(variable_name)\n",
    "    for col in cols:\n",
    "        print(f\"+-- {col}: \" + str(df[col].dtype))\n",
    "        \n",
    "printSchema(fact_review)\n",
    "printSchema(dim_hotel)\n",
    "printSchema(dim_user)"
   ]
  },
  {
   "cell_type": "code",
   "execution_count": null,
   "metadata": {},
   "outputs": [],
   "source": []
  }
 ],
 "metadata": {
  "kernelspec": {
   "display_name": ".venv",
   "language": "python",
   "name": "python3"
  },
  "language_info": {
   "codemirror_mode": {
    "name": "ipython",
    "version": 3
   },
   "file_extension": ".py",
   "mimetype": "text/x-python",
   "name": "python",
   "nbconvert_exporter": "python",
   "pygments_lexer": "ipython3",
   "version": "3.11.10"
  }
 },
 "nbformat": 4,
 "nbformat_minor": 2
}
